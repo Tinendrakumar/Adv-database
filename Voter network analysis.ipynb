{
  "nbformat": 4,
  "nbformat_minor": 0,
  "metadata": {
    "colab": {
      "provenance": []
    },
    "kernelspec": {
      "name": "python3",
      "display_name": "Python 3"
    },
    "language_info": {
      "name": "python"
    }
  },
  "cells": [
    {
      "cell_type": "markdown",
      "source": [
        "# **Question 1 Analyzing the Wikipedia voters network [27 points]**\n",
        "\n",
        "---\n",
        "\n"
      ],
      "metadata": {
        "id": "OIw83Yf1FHrl"
      }
    },
    {
      "cell_type": "code",
      "source": [
        "#Run these lines if files are in Gdrive\n",
        "# from google.colab import drive\n",
        "# drive.mount('/content/gdrive')"
      ],
      "metadata": {
        "id": "NKoj0CayQw_R"
      },
      "execution_count": null,
      "outputs": []
    },
    {
      "cell_type": "code",
      "source": [
        "!pip install snap-stanford #installing snap-stanford, can be commented if already installed"
      ],
      "metadata": {
        "id": "2si9JKOLovlX"
      },
      "execution_count": null,
      "outputs": []
    },
    {
      "cell_type": "markdown",
      "source": [
        "##**Both Wiki-Vote.txt and stackoverflow-Java.txt files must be in same local folder**"
      ],
      "metadata": {
        "id": "QA_F7chJoZEM"
      }
    },
    {
      "cell_type": "code",
      "source": [
        "# Load the Wikipedia voting network using SNAP for Python\n",
        "import snap\n",
        "# Use below lines if Gdrive is used\n",
        "# path = '/content/drive/MyDrive/Wiki-Vote.txt'\n",
        "# Graph = snap.LoadEdgeList(snap.PNGraph, path, 0, 1)\n",
        "\n",
        "\n",
        "Graph = snap.LoadEdgeList(snap.PNGraph, 'Wiki-Vote.txt', 0, 1)\n",
        "\n",
        "\n",
        "print('Compute and print out the following statistics for the wiki-Vote network:')\n",
        "print(\" \")\n",
        "\n",
        "# Number of nodes in the network\n",
        "NumberofNodes = Graph.GetNodes()\n",
        "print(\"Number of nodes: %d\" % NumberofNodes)\n",
        "print(\"**********************\")\n",
        "\n",
        "# Number of nodes with a self-edge\n",
        "NumberofSelf_Edges = snap.CntSelfEdges(Graph)\n",
        "print(\"Number of nodes with a self-edge: %d\" % NumberofSelf_Edges)\n",
        "print(\"**********************\")\n",
        "\n",
        "# Number of directed edges in the network\n",
        "No_of_Directed_Edges = snap.CntUniqDirEdges(Graph)\n",
        "print(\"Number of directed edges: %d\" % No_of_Directed_Edges)\n",
        "print(\"**********************\")\n",
        "\n",
        "# Number of undirected edges in the network\n",
        "No_of_UnDirected_Edges = snap.CntUniqUndirEdges(Graph)\n",
        "print(\"Number of undirected edges: %d\" % No_of_UnDirected_Edges)\n",
        "print(\"**********************\")\n",
        "\n",
        "# 5. Number of reciprocated edges in the network\n",
        "No_of_Reciprocated_Edges = snap.CntUniqBiDirEdges(Graph)\n",
        "print(\"Number of reciprocated edges: %d\" % No_of_Reciprocated_Edges)\n",
        "print(\"**********************\")\n",
        "\n",
        "# Number of nodes of zero out-degree\n",
        "No_of_ZeroOut_Deg = snap.CntOutDegNodes(Graph, 0)\n",
        "print(\"Number of nodes of zero out-degree: %d\" % No_of_ZeroOut_Deg)\n",
        "print(\"**********************\")\n",
        "\n",
        "# Number of nodes of zero in-degree\n",
        "No_of_ZeroIn_Deg = snap.CntInDegNodes(Graph, 0)\n",
        "print(\"Number of nodes of zero in-degree: %d\" % No_of_ZeroIn_Deg)\n",
        "print(\"**********************\")\n",
        "\n",
        "# Number of nodes with more than 10 outgoing edges\n",
        "No_of_OutDeg_Lim10 = snap.TIntPrV()\n",
        "snap.GetNodeOutDegV(Graph, No_of_OutDeg_Lim10)\n",
        "filtered_list = [item for item in No_of_OutDeg_Lim10 if item.GetVal2() > 10]\n",
        "Count = len(filtered_list)\n",
        "print(\"Number of nodes with more than 10 outgoing edges: %d\" % Count)\n",
        "print(\"**********************\")\n",
        "\n",
        "# Uncomment the below code for each node output\n",
        "# Count = 0\n",
        "# for item in NumOutDegLt10:\n",
        "#     if item.GetVal2() > 10:\n",
        "#         Count +=1\n",
        "        # print(\"[%d] node ID %d: out-degree %d\" % (Count, item.GetVal1(), item.GetVal2()))\n",
        "# print(\"**********************\")\n",
        "\n",
        "# Number of nodes with fewer than 10 incoming edges\n",
        "No_of_InDeg_Lim10 = snap.TIntPrV()\n",
        "snap.GetNodeInDegV(Graph, No_of_InDeg_Lim10)\n",
        "filtered_list = [item for item in No_of_InDeg_Lim10 if item.GetVal2() < 10]\n",
        "Count = len(filtered_list)\n",
        "print(\"Number of nodes with fewer than 10 incoming edges: %d\" % Count)\n",
        "# Uncomment the below code for each node output\n",
        "# Count = 0\n",
        "# for item in NumInDegLt10:\n",
        "#     if item.GetVal2() < 10:\n",
        "#         Count += 1\n",
        "        # print(\"[%d] node ID %d: In-degree %d\" % (Count, item.GetVal1(), item.GetVal2()))\n",
        "# print(\"**********************\")"
      ],
      "metadata": {
        "colab": {
          "base_uri": "https://localhost:8080/"
        },
        "id": "Eq4vx1uVbpSU",
        "outputId": "f64d5b9d-daea-4a98-f58e-e19a6aaf0553"
      },
      "execution_count": null,
      "outputs": [
        {
          "output_type": "stream",
          "name": "stdout",
          "text": [
            "Compute and print out the following statistics for the wiki-Vote network:\n",
            " \n",
            "Number of nodes: 7115\n",
            "**********************\n",
            "Number of nodes with a self-edge: 0\n",
            "**********************\n",
            "Number of directed edges: 103689\n",
            "**********************\n",
            "Number of undirected edges: 100762\n",
            "**********************\n",
            "Number of reciprocated edges: 2927\n",
            "**********************\n",
            "Number of nodes of zero out-degree: 1005\n",
            "**********************\n",
            "Number of nodes of zero in-degree: 4734\n",
            "**********************\n",
            "Number of nodes with more than 10 outgoing edges: 1612\n",
            "**********************\n",
            "Number of nodes with fewer than 10 incoming edges: 5165\n"
          ]
        }
      ]
    },
    {
      "cell_type": "markdown",
      "source": [
        "#**Question 2 Further Analyzing the Wikipedia voters network**"
      ],
      "metadata": {
        "id": "StdPmEnwFBjn"
      }
    },
    {
      "cell_type": "code",
      "source": [],
      "metadata": {
        "id": "sfNmk5m1t1Rd"
      },
      "execution_count": null,
      "outputs": []
    },
    {
      "cell_type": "markdown",
      "source": [
        "###**Plot the distribution of out-degrees of nodes in the network on a log-log scale**"
      ],
      "metadata": {
        "id": "KN9KWoYdxCeo"
      }
    },
    {
      "cell_type": "code",
      "source": [
        "import networkx as nx\n",
        "import matplotlib.pyplot as plt\n",
        "from collections import Counter\n",
        "\n",
        "#Loading the wikivote text data\n",
        "Graph = nx.read_edgelist(\"Wiki-Vote.txt\", create_using=nx.DiGraph)\n",
        "\n",
        "#Computing the out-degree of each node\n",
        "out_degrees = dict(Graph.out_degree())\n",
        "\n",
        "#Calculate the frequency of each out-degree value\n",
        "out_degree_counts = dict(Counter(out_degrees.values()))\n",
        "\n",
        "#Filter out any data points with a 0 entry\n",
        "out_degree_counts = {k: v for k, v in out_degree_counts.items() if k != 0}\n",
        "\n",
        "#Plot the distribution of out-degrees on a log-log scale\n",
        "x, y = zip(*out_degree_counts.items())\n",
        "plt.loglog(x, y, \"go\", markersize=4)\n",
        "plt.title(\"Distribution of out-degrees of nodes in the network on a log-log scale\")\n",
        "plt.xlabel(\"Out-degrees (log scale)\")\n",
        "plt.ylabel(\"Number of nodes (log scale)\")\n",
        "plt.show()\n"
      ],
      "metadata": {
        "colab": {
          "base_uri": "https://localhost:8080/",
          "height": 299
        },
        "id": "Av4sbEl7C6Fh",
        "outputId": "d6a6df2c-24b0-40ae-ba4e-4b7361498efa"
      },
      "execution_count": null,
      "outputs": [
        {
          "output_type": "display_data",
          "data": {
            "text/plain": [
              "<Figure size 432x288 with 1 Axes>"
            ],
            "image/png": "[encoded data removed]"
          },
          "metadata": {
            "needs_background": "light"
          }
        }
      ]
    },
    {
      "cell_type": "markdown",
      "source": [
        "#**Question 3 -- Finding Experts on the Java Programming Language on StackOverflow**"
      ],
      "metadata": {
        "id": "8WQrf32FXL7h"
      }
    },
    {
      "cell_type": "markdown",
      "source": [
        "###**Computing and printing out the statistics for the stackoverflow-Java network:**"
      ],
      "metadata": {
        "id": "80gn-Djvxe_T"
      }
    },
    {
      "cell_type": "code",
      "source": [
        "import snap\n",
        "\n",
        "# Load the StackOverflow network\n",
        "graph = snap.LoadEdgeList(snap.PNGraph, 'stackoverflow-Java.txt', 0, 1)\n",
        "\n",
        "# Calculate the number of weakly connected components\n",
        "wccs = snap.TCnComV()\n",
        "snap.GetWccs(graph, wccs)\n",
        "num_wccs = len(wccs)\n",
        "\n",
        "print(\"Computing and printing out the statistics for the stackoverflow-Java network:\")\n",
        "print(\"  \")\n",
        "print(\"The number of weakly connected components in the network: \", num_wccs)\n",
        "print(\"**********************\")\n",
        "\n",
        "# Get the largest weakly connected component\n",
        "Wcc = snap.GetMxWcc(graph)\n",
        "\n",
        "# Get the number of nodes and edges in the largest weakly connected component\n",
        "num_nodes = Wcc.GetNodes()\n",
        "num_edges = Wcc.GetEdges()\n",
        "print(\"\")\n",
        "print(\"Number of nodes in largest weakly connected component:\", num_nodes)\n",
        "print(\"Number of edges in largest weakly connected component:\", num_edges)\n",
        "print(\"**********************\")\n",
        "\n",
        "# Using GetPageRank to Calculate the PageRank scores\n",
        "PageRank = snap.TIntFltH()\n",
        "snap.GetPageRank(graph, PageRank)\n",
        "\n",
        "# Find the top 3 most central nodes by PageRank scores\n",
        "top_nodes = [(node_id, PageRank[node_id]) for node_id in PageRank]\n",
        "top_nodes = sorted(top_nodes, key=lambda x: x[1], reverse=True)[:3]\n",
        "\n",
        "print(\"Top 3 most central nodes by PageRank scores:\")\n",
        "print(\"\")\n",
        "for node_id, score in top_nodes:\n",
        "    print(\"Node:\", node_id, \"Score:\", score)\n",
        "\n",
        "print(\"**********************\")\n",
        "\n",
        "# Using GetHits to Calculate the HITS scores\n",
        "NIdHubH = snap.TIntFltH()\n",
        "NIdAuthH = snap.TIntFltH()\n",
        "snap.GetHits(graph, NIdHubH, NIdAuthH)\n",
        "\n",
        "# Find the top 3 hubs and top 3 authorities in the graph\n",
        "top_hubs = [(node_id, NIdHubH[node_id]) for node_id in NIdHubH]\n",
        "top_hubs = sorted(top_hubs, key=lambda x: x[1], reverse=True)[:3]\n",
        "\n",
        "top_auths = [(node_id, NIdAuthH[node_id]) for node_id in NIdAuthH]\n",
        "top_auths = sorted(top_auths, key=lambda x: x[1], reverse=True)[:3]\n",
        "\n",
        "print(\"Top 3 hubs by HITS scores:\")\n",
        "print(\"\")\n",
        "for node_id, score in top_hubs:\n",
        "    print(\"Node:\", node_id, \"Score:\", score)\n",
        "print(\"**********************\")\n",
        "print(\"Top 3 authorities by HITS scores:\")\n",
        "print(\"\")\n",
        "for node_id, score in top_auths:\n",
        "    print(\"Node:\", node_id, \"Score:\", score)\n"
      ],
      "metadata": {
        "colab": {
          "base_uri": "https://localhost:8080/"
        },
        "id": "ek5RSrkMXT8Y",
        "outputId": "04052d71-2da5-4530-809d-8ee739e63ab5"
      },
      "execution_count": null,
      "outputs": [
        {
          "output_type": "stream",
          "name": "stdout",
          "text": [
            "Computing and printing out the statistics for the stackoverflow-Java network:\n",
            "  \n",
            "The number of weakly connected components in the network:  10143\n",
            "**********************\n",
            "\n",
            "Number of nodes in largest weakly connected component: 131188\n",
            "Number of edges in largest weakly connected component: 322486\n",
            "**********************\n",
            "Top 3 most central nodes by PageRank scores:\n",
            "\n",
            "Node: 992484 Score: 0.013980540412209575\n",
            "Node: 135152 Score: 0.010005538895741885\n",
            "Node: 22656 Score: 0.007103532693128619\n",
            "**********************\n",
            "Top 3 hubs by HITS scores:\n",
            "\n",
            "Node: 892029 Score: 0.07336380373389548\n",
            "Node: 1194415 Score: 0.05955074418794487\n",
            "Node: 359862 Score: 0.05687564588068672\n",
            "**********************\n",
            "Top 3 authorities by HITS scores:\n",
            "\n",
            "Node: 22656 Score: 0.6047239730413133\n",
            "Node: 157882 Score: 0.2986993488728824\n",
            "Node: 571407 Score: 0.2839071934144654\n"
          ]
        }
      ]
    },
    {
      "cell_type": "code",
      "source": [
        "import snap\n",
        "import numpy as np\n",
        "import matplotlib.pyplot as plt\n",
        "\n",
        "# Load collaboration network\n",
        "GraphCollab = snap.LoadEdgeList(snap.PUNGraph, \"CA-GrQc.txt\", 0, 1)\n",
        "\n",
        "# Remove self-edges from collaboration network\n",
        "for edge in GraphCollab.Edges():\n",
        "    if edge.GetSrcNId() == edge.GetDstNId():\n",
        "        GraphCollab.DelEdge(edge.GetSrcNId(), edge.GetDstNId())\n",
        "\n",
        "# Generate Erdos-Renyi random network\n",
        "n = 5242\n",
        "m = 14484\n",
        "GraphER = snap.PUNGraph.New()\n",
        "for i in range(n):\n",
        "    GraphER.AddNode(i)\n",
        "for i in range(n):\n",
        "    for j in range(i+1, n):\n",
        "        if GraphER.GetEdges() >= m:\n",
        "            break\n",
        "        if np.random.rand() < m / (n*(n-1)/2):\n",
        "            GraphER.AddEdge(i, j)\n",
        "\n",
        "# Generate Small-World random network\n",
        "GraphSW = snap.GenSmallWorld(n, 2, 0.1)\n",
        "\n",
        "# Plot degree distributions\n",
        "def plot_deg_dist(Graph, label):\n",
        "    DegToCntV = snap.TIntPrV()\n",
        "    snap.GetDegCnt(Graph, DegToCntV)\n",
        "    x = []\n",
        "    y = []\n",
        "    for item in DegToCntV:\n",
        "        x.append(item.GetVal1())\n",
        "        y.append(item.GetVal2())\n",
        "    plt.loglog(x, y, '-', label=label)\n",
        "\n",
        "plot_deg_dist(GraphER, 'Erdos-Renyi')\n",
        "plot_deg_dist(GraphSW, 'Small-World')\n",
        "plot_deg_dist(GraphCollab, 'Collaboration')\n",
        "plt.xlabel('Node Degree (log)')\n",
        "plt.ylabel('Proportion of Nodes with a Given Degree (log)')\n",
        "plt.title('Degree Distribution of Erdos Renyi, Small World, and Collaboration Networks')\n",
        "plt.legend()\n",
        "plt.show()\n"
      ],
      "metadata": {
        "colab": {
          "base_uri": "https://localhost:8080/",
          "height": 299
        },
        "id": "yCZMNVknuL05",
        "outputId": "72e1036d-e724-448e-bf49-7ba8748c3798"
      },
      "execution_count": null,
      "outputs": [
        {
          "output_type": "display_data",
          "data": {
            "text/plain": [
              "<Figure size 432x288 with 1 Axes>"
            ],
            "image/png": "[encoded data removed]"
          },
          "metadata": {
            "needs_background": "light"
          }
        }
      ]
    },
    {
      "cell_type": "markdown",
      "source": [
        "The key difference between the degree distribution of the collaboration network and the degree distributions of the random graph models is that the collaboration network has a power-law degree distribution, which means that there are many nodes with low degree and a few nodes with very high degree, while the degree distributions of the random graph models follow a Poisson distribution, which means that the nodes have more similar degrees and there are fewer nodes with very high or very low degree."
      ],
      "metadata": {
        "id": "PS2ADrmfum2z"
      }
    },
    {
      "cell_type": "code",
      "source": [
        "# scra\n",
        "import random\n",
        "import snap\n",
        "def generate_erdos_renyi(n, m):\n",
        "    graph = {}\n",
        "    for i in range(n):\n",
        "        graph[i] = set()\n",
        "\n",
        "    edges = set()\n",
        "    while len(edges) < m:\n",
        "        u, v = random.sample(range(n), 2)\n",
        "        if u == v or (u, v) in edges or (v, u) in edges:\n",
        "            continue\n",
        "        edges.add((u, v))\n",
        "\n",
        "    for u, v in edges:\n",
        "        graph[u].add(v)\n",
        "        graph[v].add(u)\n",
        "\n",
        "    return graph\n",
        "\n",
        "def generate_small_world(n, k, p):\n",
        "    graph = {}\n",
        "    for i in range(n):\n",
        "        graph[i] = set()\n",
        "\n",
        "    # create a ring lattice\n",
        "    for i in range(n):\n",
        "        for j in range(1, k // 2 + 1):\n",
        "            v = (i + j) % n\n",
        "            graph[i].add(v)\n",
        "            graph[v].add(i)\n",
        "\n",
        "    # add random edges\n",
        "    for i in range(n):\n",
        "        for j in range(1, k // 2 + 1):\n",
        "            if random.random() < p:\n",
        "                v = (i + j) % n\n",
        "                w = random.randint(0, n - 1)\n",
        "                graph[i].remove(v)\n",
        "                graph[v].remove(i)\n",
        "                graph[i].add(w)\n",
        "                graph[w].add(i)\n",
        "\n",
        "    return graph\n",
        "\n",
        "n = 5242\n",
        "m = 14484\n",
        "\n",
        "erdos_renyi = generate_erdos_renyi(n, m)\n",
        "small_world = generate_small_world(n, 4, 0.1)\n",
        "\n",
        "# Load collaboration network\n",
        "collab = snap.LoadEdgeList(snap.PUNGraph, \"CA-GrQc.txt\", 0, 1)\n",
        "\n",
        "# Remove self-edges from collaboration network\n",
        "for edge in collab.Edges():\n",
        "    if edge.GetSrcNId() == edge.GetDstNId():\n",
        "        collab.DelEdge(edge.GetSrcNId(), edge.GetDstNId())\n",
        "\n"
      ],
      "metadata": {
        "id": "2yp4mjKLt3o8"
      },
      "execution_count": null,
      "outputs": []
    }
  ]
}