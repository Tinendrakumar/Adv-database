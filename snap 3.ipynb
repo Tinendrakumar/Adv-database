{
  "nbformat": 4,
  "nbformat_minor": 0,
  "metadata": {
    "colab": {
      "provenance": []
    },
    "kernelspec": {
      "name": "python3",
      "display_name": "Python 3"
    },
    "language_info": {
      "name": "python"
    }
  },
  "cells": [
    {
      "cell_type": "code",
      "source": [
        "!wget https://snap.stanford.edu/snappy/release/snap-stanford-6.0.0.tar.gz  # Change the version number as necessary\n",
        "!tar -xvf snap-stanford-6.0.0.tar.gz\n"
      ],
      "metadata": {
        "colab": {
          "base_uri": "https://localhost:8080/"
        },
        "id": "kt6zh5LQc14y",
        "outputId": "d604b0f1-3964-4db2-e046-dcf0d8853531"
      },
      "execution_count": null,
      "outputs": [
        {
          "output_type": "stream",
          "name": "stdout",
          "text": [
            "--2024-03-18 02:47:43--  https://snap.stanford.edu/snappy/release/snap-stanford-6.0.0.tar.gz\n",
            "Resolving snap.stanford.edu (snap.stanford.edu)... 171.64.75.80\n",
            "Connecting to snap.stanford.edu (snap.stanford.edu)|171.64.75.80|:443... connected.\n",
            "HTTP request sent, awaiting response... 404 Not Found\n",
            "2024-03-18 02:47:43 ERROR 404: Not Found.\n",
            "\n",
            "tar: snap-stanford-6.0.0.tar.gz: Cannot open: No such file or directory\n",
            "tar: Error is not recoverable: exiting now\n"
          ]
        }
      ]
    },
    {
      "cell_type": "code",
      "source": [
        "%cd snap-stanford-5.0.0\n",
        "!make all\n"
      ],
      "metadata": {
        "id": "8pyl6jOUc9Kl"
      },
      "execution_count": null,
      "outputs": []
    },
    {
      "cell_type": "markdown",
      "source": [
        "##Problem 2.1\n",
        "Import Email-EuAll.txt and soc-Epinions1.txt to local folder"
      ],
      "metadata": {
        "id": "s9sRmdQIwOWT"
      }
    },
    {
      "cell_type": "code",
      "execution_count": null,
      "metadata": {
        "colab": {
          "base_uri": "https://localhost:8080/"
        },
        "id": "H5QfKoLX-w9P",
        "outputId": "8ecbf6c7-3e02-4630-97b9-b5bcaa632793"
      },
      "outputs": [
        {
          "output_type": "stream",
          "name": "stdout",
          "text": [
            "Forward BFS for node 9809: 1\n",
            "Backward BFS for node 9809: 56460\n",
            "Forward BFS for node 1952: 47677\n",
            "Backward BFS for node 1952: 1\n",
            "Node 9809 belongs to the IN component and node 1952 belongs to the OUT component of the Epinions network\n",
            "Forward BFS for node 189587: 52103\n",
            "Backward BFS for node 189587: 185226\n",
            "Forward BFS for node 675: 1\n",
            "Backward BFS for node 675: 185240\n",
            "Node 189587 belongs to the OUT component and node 675 belongs to the IN component of the Email network\n"
          ]
        }
      ],
      "source": [
        "import snap\n",
        "\n",
        "# Load the Epinions network\n",
        "epinions = snap.LoadEdgeList(snap.PNGraph, \"soc-Epinions1.txt\", 0, 1)\n",
        "\n",
        "# Perform forward and backward BFS starting at nodes 9809 and 1952\n",
        "fw_tree_9809 = snap.GetBfsTree(epinions, 9809, True, False)\n",
        "bw_tree_9809 = snap.GetBfsTree(epinions, 9809, False, True)\n",
        "fw_tree_1952 = snap.GetBfsTree(epinions, 1952, True, False)\n",
        "bw_tree_1952 = snap.GetBfsTree(epinions, 1952, False, True)\n",
        "\n",
        "print('Forward BFS for node 9809:', fw_tree_9809.GetNodes())\n",
        "print('Backward BFS for node 9809:',bw_tree_9809.GetNodes())\n",
        "print('Forward BFS for node 1952:', fw_tree_1952.GetNodes())\n",
        "print('Backward BFS for node 1952:',bw_tree_1952.GetNodes())\n",
        "\n",
        "\n",
        "# Determine the component type based on the structure of the BFS trees\n",
        "if fw_tree_9809.IsNode(1952) and bw_tree_9809.IsNode(1952):\n",
        "    print(\"Node 9809 and node 1952 belong to the SCC component of the Epinions network\")\n",
        "elif fw_tree_9809.IsNode(1952):\n",
        "    print(\"Node 9809 belongs to the OUT component and node 1952 belongs to the IN component of the Epinions network\")\n",
        "elif bw_tree_9809.IsNode(1952):\n",
        "    print(\"Node 9809 belongs to the IN component and node 1952 belongs to the OUT component of the Epinions network\")\n",
        "else:\n",
        "    print(\"Node 9809 and node 1952 belong to different components in the Epinions network\")\n",
        "\n",
        "\n",
        "# Load the Email network\n",
        "email = snap.LoadEdgeList(snap.PNGraph, \"Email-EuAll.txt\", 0, 1)\n",
        "\n",
        "# Perform forward and backward BFS starting at nodes 189587 and 675\n",
        "fw_tree_189587 = snap.GetBfsTree(email, 189587, True, False)\n",
        "bw_tree_189587 = snap.GetBfsTree(email, 189587, False, True)\n",
        "fw_tree_675 = snap.GetBfsTree(email, 675, True, False)\n",
        "bw_tree_675 = snap.GetBfsTree(email, 675, False, True)\n",
        "\n",
        "print('Forward BFS for node 189587:', fw_tree_189587.GetNodes())\n",
        "print('Backward BFS for node 189587:',bw_tree_189587.GetNodes())\n",
        "print('Forward BFS for node 675:', fw_tree_675.GetNodes())\n",
        "print('Backward BFS for node 675:',bw_tree_675.GetNodes())\n",
        "\n",
        "# Determine the component type based on the structure of the BFS trees\n",
        "if fw_tree_189587.IsNode(675) and bw_tree_189587.IsNode(675):\n",
        "    print(\"Node 189587 and node 675 belong to the SCC component of the Email network\")\n",
        "elif fw_tree_189587.IsNode(675):\n",
        "    print(\"Node 189587 belongs to the OUT component and node 675 belongs to the IN component of the Email network\")\n",
        "elif bw_tree_189587.IsNode(675):\n",
        "    print(\"Node 189587 belongs to the IN component and node 675 belongs to the OUT component of the Email network\")\n",
        "else:\n",
        "    print(\"Node 189587 and node 675 belong to different components in the Email network\")\n"
      ]
    },
    {
      "cell_type": "markdown",
      "source": [
        "#**Problem 2.2:**"
      ],
      "metadata": {
        "id": "PXl2SoJBn8o6"
      }
    },
    {
      "cell_type": "code",
      "source": [
        "import random\n",
        "\n",
        "# Choose 100 random nodes\n",
        "random_nodes = random.sample(range(epinions.GetNodes()), 100)\n",
        "\n",
        "# Forward and backward BFS for each node\n",
        "fwd_nodes_reached = []\n",
        "bwd_nodes_reached = []\n",
        "\n",
        "for i in random_nodes:\n",
        "    # Forward BFS\n",
        "    fwd_bfs_tree = epinions.GetBfsTree(i, True, False)\n",
        "    fwd_nodes_reached.append(fwd_bfs_tree.GetNodes())\n",
        "\n",
        "    # Backward BFS\n",
        "    bwd_bfs_tree = epinions.GetBfsTree(i, False, True)\n",
        "    bwd_nodes_reached.append(bwd_bfs_tree.GetNodes())\n",
        "\n",
        "import matplotlib.pyplot as plt\n",
        "import numpy as np\n",
        "\n",
        "# Plot the cumulative distribution for the forward BFS\n",
        "fwd_nodes_reached.sort()\n",
        "yvals = np.arange(len(fwd_nodes_reached))/float(len(fwd_nodes_reached)-1)\n",
        "plt.plot(fwd_nodes_reached, yvals)\n",
        "\n",
        "# Plot the cumulative distribution for the backward BFS\n",
        "bwd_nodes_reached.sort()\n",
        "yvals = np.arange(len(bwd_nodes_reached))/float(len(bwd_nodes_reached)-1)\n",
        "plt.plot(bwd_nodes_reached, yvals)\n",
        "\n",
        "plt.legend(['Forward BFS', 'Backward BFS'])\n",
        "plt.xlabel('Number of Nodes Reached')\n",
        "plt.ylabel('Cumulative Probability')\n",
        "plt.show()\n"
      ],
      "metadata": {
        "colab": {
          "base_uri": "https://localhost:8080/",
          "height": 279
        },
        "id": "9uZ5Mt2I-2GY",
        "outputId": "a8fbd18c-9fbb-46f2-ea80-b376ee1148cf"
      },
      "execution_count": null,
      "outputs": [
        {
          "output_type": "display_data",
          "data": {
            "text/plain": [
              "<Figure size 432x288 with 1 Axes>"
            ],
            "image/png": "[encoded data removed]"
          },
          "metadata": {
            "needs_background": "light"
          }
        }
      ]
    },
    {
      "cell_type": "code",
      "source": [
        "import random\n",
        "\n",
        "# Choose 100 random nodes\n",
        "random_nodes = random.sample(range(email.GetNodes()), 100)\n",
        "\n",
        "# Forward and backward BFS for each node\n",
        "fwd_nodes_reached = []\n",
        "bwd_nodes_reached = []\n",
        "#forward is inward\n",
        "for i in random_nodes:\n",
        "    # Forward BFS\n",
        "    fwd_bfs_tree = email.GetBfsTree(i, True, False)\n",
        "    fwd_nodes_reached.append(fwd_bfs_tree.GetNodes())\n",
        "\n",
        "    # Backward BFS\n",
        "    bwd_bfs_tree = email.GetBfsTree(i, False, True)\n",
        "    bwd_nodes_reached.append(bwd_bfs_tree.GetNodes())\n",
        "\n",
        "\n",
        "import matplotlib.pyplot as plt\n",
        "import numpy as np\n",
        "\n",
        "# Plot the cumulative distribution for the forward BFS\n",
        "fwd_nodes_reached.sort()\n",
        "yvals = np.arange(len(fwd_nodes_reached))/float(len(fwd_nodes_reached)-1)\n",
        "plt.plot(fwd_nodes_reached, yvals)\n",
        "\n",
        "# Plot the cumulative distribution for the backward BFS\n",
        "bwd_nodes_reached.sort()\n",
        "yvals = np.arange(len(bwd_nodes_reached))/float(len(bwd_nodes_reached)-1)\n",
        "plt.plot(bwd_nodes_reached, yvals)\n",
        "\n",
        "plt.legend(['Forward BFS', 'Backward BFS'])\n",
        "plt.xlabel('Number of Nodes Reached')\n",
        "plt.ylabel('Cumulative Probability')\n",
        "plt.show()"
      ],
      "metadata": {
        "colab": {
          "base_uri": "https://localhost:8080/",
          "height": 279
        },
        "id": "RjTaL4HV-2Qw",
        "outputId": "f180c6fd-b8df-4c3d-aa43-0304b69a6270"
      },
      "execution_count": null,
      "outputs": [
        {
          "output_type": "display_data",
          "data": {
            "text/plain": [
              "<Figure size 432x288 with 1 Axes>"
            ],
            "image/png": "[encoded data removed]"
          },
          "metadata": {
            "needs_background": "light"
          }
        }
      ]
    },
    {
      "cell_type": "markdown",
      "source": [
        "During a BFS traversal, the number of reachable nodes will depend on the starting node and the component in which it is located.\n",
        "\n",
        "*  If the starting node is in the SCC, then all nodes in the SCC will be reachable during the traversal.\n",
        "*  If the starting node is in the IN component, then only nodes in the IN and SCC components will be reachable\n",
        "*   If the starting node is in the OUT component, then only nodes in the OUT and SCC components will be reachable\n",
        "*   Finally, if the starting node is in the Tendrils and Tubes component, then only a subset of nodes in the other components will be reachable, depending on their connectivity to the starting node."
      ],
      "metadata": {
        "id": "MPWbJU45mdAv"
      }
    },
    {
      "cell_type": "markdown",
      "source": [
        "From these traversals, we can infer various properties of the graph, such as its connectivity, whether it contains cycles, the distance between vertices, and the existence of paths between vertices."
      ],
      "metadata": {
        "id": "8ioXAaMhmbSq"
      }
    },
    {
      "cell_type": "markdown",
      "source": [
        "#**Problem 2.3:**"
      ],
      "metadata": {
        "id": "cHAPlAJbss3M"
      }
    },
    {
      "cell_type": "code",
      "source": [
        "#For epinion network\n",
        "\n",
        "NoNodes_GEp = epinions.GetNodes()\n",
        "\n",
        "scc_size_Ep = int(NoNodes_GEp * snap.GetMxSccSz(epinions))\n",
        "\n",
        "MxScc_Ep = snap.GetMxScc(epinions)\n",
        "Nd_Rch_Ep = set()\n",
        "for Ed_Ep in MxScc_Ep.Edges():\n",
        "    Nd_Rch_Ep.add(Ed_Ep.GetSrcNId())\n",
        "    Nd_Rch_Ep.add(Ed_Ep.GetDstNId())\n",
        "\n",
        "nd_in_scc_Ep = random.sample(Nd_Rch_Ep, 1)[0]\n",
        "\n",
        "bfs_ep_out = snap.GetBfsTree(epinions, nd_in_scc_Ep, True, False)\n",
        "nrp = set()\n",
        "for edge in bfs_ep_out.Edges():\n",
        "\t\tnrp.add(edge.GetSrcNId())\n",
        "\t\tnrp.add(edge.GetDstNId())\n",
        "\n",
        "bfs_ep_in = snap.GetBfsTree(epinions, nd_in_scc_Ep, False, True)\n",
        "nrp1 = set()\n",
        "for edge in bfs_ep_in.Edges():\n",
        "\t\tnrp1.add(edge.GetSrcNId())\n",
        "\t\tnrp1.add(edge.GetDstNId())\n",
        "\n",
        "out_scc_ep = len(nrp)\n",
        "in_scc_ep = len(nrp1)\n",
        "in_size_ep = in_scc_ep - scc_size_Ep\n",
        "out_size_ep = out_scc_ep - scc_size_Ep\n",
        "print(\"Number of Nodes in SCC region in Epinions Network:\",scc_size_Ep)\n",
        "print('Number of Nodes in IN region in Epinions Network:', in_size_ep)\n",
        "print('Number of Nodes in OUT region in Epinions Network:', out_size_ep)\n",
        "\n",
        "print('Number of Nodes in Tendrils region in Epinions Network:', int(snap.GetMxWccSz(epinions) * NoNodes_GEp) - in_size_ep - out_size_ep - scc_size_Ep)\n",
        "print('Number of Nodes in Disconnected region in Epinions Network:', NoNodes_GEp - int(snap.GetMxWccSz(epinions)))\n",
        "\n",
        "# For email network\n",
        "\n",
        "NoNodes_email = email.GetNodes()\n",
        "NoEdges_email = email.GetEdges()\n",
        "scc_size_Ep = int(NoNodes_email * snap.GetMxSccSz(email))\n",
        "\n",
        "\n",
        "MxScc_Ep = snap.GetMxScc(email)\n",
        "Nd_Rch_Ep = set()\n",
        "for Ed_Ep in MxScc_Ep.Edges():\n",
        "    Nd_Rch_Ep.add(Ed_Ep.GetSrcNId())\n",
        "    Nd_Rch_Ep.add(Ed_Ep.GetDstNId())\n",
        "\n",
        "nd_in_scc_Ep = random.sample(Nd_Rch_Ep, 1)[0]\n",
        "\n",
        "bfs_ep_out = snap.GetBfsTree(email, nd_in_scc_Ep, True, False)\n",
        "nrp = set()\n",
        "for edge in bfs_ep_out.Edges():\n",
        "\t\tnrp.add(edge.GetSrcNId())\n",
        "\t\tnrp.add(edge.GetDstNId())\n",
        "\n",
        "bfs_ep_in = snap.GetBfsTree(email, nd_in_scc_Ep, False, True)\n",
        "nrp1 = set()\n",
        "for edge in bfs_ep_in.Edges():\n",
        "\t\tnrp1.add(edge.GetSrcNId())\n",
        "\t\tnrp1.add(edge.GetDstNId())\n",
        "\n",
        "out_scc_ep = len(nrp)\n",
        "in_scc_ep = len(nrp1)\n",
        "in_size_ep = in_scc_ep - scc_size_Ep\n",
        "out_size_ep = out_scc_ep - scc_size_Ep\n",
        "print(\"Number of Nodes in SCC region in Email Network:\",scc_size_Ep)\n",
        "print('Number of Nodes in IN region in Email Network:', in_size_ep)\n",
        "print('Number of Nodes in OUT region in Email Network:', out_size_ep)\n",
        "print('Number of Nodes in Tendrils region in Email Network:', int(snap.GetMxWccSz(email) * NoNodes_email) - in_size_ep - out_size_ep - scc_size_Ep)\n",
        "print('Number of Nodes in Disconnected region in Email Network:', NoNodes_email - int(snap.GetMxWccSz(email)))"
      ],
      "metadata": {
        "colab": {
          "base_uri": "https://localhost:8080/"
        },
        "id": "N6eHBB5eo6Bo",
        "outputId": "b50ed958-08e0-46e4-dbdb-2cf2b1f0aff3"
      },
      "execution_count": null,
      "outputs": [
        {
          "output_type": "stream",
          "name": "stderr",
          "text": [
            "<ipython-input-26-abf0891707a5>:13: DeprecationWarning: Sampling from a set deprecated\n",
            "since Python 3.9 and will be removed in a subsequent version.\n",
            "  nd_in_scc_Ep = random.sample(Nd_Rch_Ep, 1)[0]\n"
          ]
        },
        {
          "output_type": "stream",
          "name": "stdout",
          "text": [
            "Number of Nodes in SCC region in Epinions Network: 32223\n",
            "Number of Nodes in IN region in Epinions Network: 24236\n",
            "Number of Nodes in OUT region in Epinions Network: 15453\n",
            "Number of Nodes in Tendrils region in Epinions Network: 3965\n",
            "Number of Nodes in Disconnected region in Epinions Network: 75879\n"
          ]
        },
        {
          "output_type": "stream",
          "name": "stderr",
          "text": [
            "<ipython-input-26-abf0891707a5>:51: DeprecationWarning: Sampling from a set deprecated\n",
            "since Python 3.9 and will be removed in a subsequent version.\n",
            "  nd_in_scc_Ep = random.sample(Nd_Rch_Ep, 1)[0]\n"
          ]
        },
        {
          "output_type": "stream",
          "name": "stdout",
          "text": [
            "Number of Nodes in SCC region in Email Network: 34203\n",
            "Number of Nodes in IN region in Email Network: 151023\n",
            "Number of Nodes in OUT region in Email Network: 17900\n",
            "Number of Nodes in Tendrils region in Email Network: 21706\n",
            "Number of Nodes in Disconnected region in Email Network: 265214\n"
          ]
        }
      ]
    },
    {
      "cell_type": "code",
      "source": [
        "#Without Snap for a sample of 100 Nodes\n",
        "import random\n",
        "\n",
        "# Epinions network\n",
        "epinions_fwd_nodes_reached = []\n",
        "epinions_bwd_nodes_reached = []\n",
        "epinions_scc_nodes = []\n",
        "epinions_in_nodes = []\n",
        "epinions_out_nodes = []\n",
        "epinions_tendrils_nodes = []\n",
        "epinions_disconnected_nodes = []\n",
        "\n",
        "# Randomly select 100 nodes\n",
        "epinions_random_nodes = random.sample(range(epinions.GetNodes()), 100)\n",
        "\n",
        "for i in epinions_random_nodes:\n",
        "    # Forward BFS\n",
        "    fwd_bfs_tree = epinions.GetBfsTree(i, True, False)\n",
        "    epinions_fwd_nodes_reached.append(fwd_bfs_tree.GetNodes())\n",
        "\n",
        "    # Backward BFS\n",
        "    bwd_bfs_tree = epinions.GetBfsTree(i, False, True)\n",
        "    epinions_bwd_nodes_reached.append(bwd_bfs_tree.GetNodes())\n",
        "\n",
        "    # SCC nodes\n",
        "    if fwd_bfs_tree.GetNodes() == bwd_bfs_tree.GetNodes():\n",
        "        epinions_scc_nodes.append(i)\n",
        "\n",
        "    # IN nodes\n",
        "    elif fwd_bfs_tree.GetNodes() > bwd_bfs_tree.GetNodes():\n",
        "        epinions_in_nodes.append(i)\n",
        "\n",
        "    # OUT nodes\n",
        "    elif fwd_bfs_tree.GetNodes() < bwd_bfs_tree.GetNodes():\n",
        "        epinions_out_nodes.append(i)\n",
        "\n",
        "    # TENDRILS nodes\n",
        "    elif (fwd_bfs_tree.GetNodes() > 0) and (fwd_bfs_tree.GetNodes() < bwd_bfs_tree.GetNodes()):\n",
        "        epinions_tendrils_nodes.append(i)\n",
        "\n",
        "    # DISCONNECTED nodes\n",
        "    else:\n",
        "        epinions_disconnected_nodes.append(i)\n",
        "\n",
        "print(\"Epinions network:\")\n",
        "print(f\"SCC nodes: {len(epinions_scc_nodes)}\")\n",
        "print(f\"IN nodes: {len(epinions_in_nodes)}\")\n",
        "print(f\"OUT nodes: {len(epinions_out_nodes)}\")\n",
        "print(f\"TENDRILS nodes: {len(epinions_tendrils_nodes)}\")\n",
        "print(f\"DISCONNECTED nodes: {len(epinions_disconnected_nodes)}\")\n",
        "\n",
        "import random\n",
        "\n",
        "# Email network\n",
        "email_fwd_nodes_reached = []\n",
        "email_bwd_nodes_reached = []\n",
        "email_scc_nodes = []\n",
        "email_in_nodes = []\n",
        "email_out_nodes = []\n",
        "email_tendrils_nodes = []\n",
        "email_disconnected_nodes = []\n",
        "\n",
        "# Randomly select 100 nodes\n",
        "email_random_nodes = random.sample(range(email.GetNodes()), 100)\n",
        "\n",
        "for i in email_random_nodes:\n",
        "    # Forward BFS\n",
        "    fwd_bfs_tree = email.GetBfsTree(i, True, False)\n",
        "    email_fwd_nodes_reached.append(fwd_bfs_tree.GetNodes())\n",
        "\n",
        "    # Backward BFS\n",
        "    bwd_bfs_tree = email.GetBfsTree(i, False, True)\n",
        "    email_bwd_nodes_reached.append(bwd_bfs_tree.GetNodes())\n",
        "\n",
        "    # SCC nodes\n",
        "    if fwd_bfs_tree.GetNodes() == bwd_bfs_tree.GetNodes():\n",
        "        email_scc_nodes.append(i)\n",
        "\n",
        "    # IN nodes\n",
        "    elif fwd_bfs_tree.GetNodes() > bwd_bfs_tree.GetNodes():\n",
        "        email_in_nodes.append(i)\n",
        "\n",
        "    # OUT nodes\n",
        "    elif fwd_bfs_tree.GetNodes() < bwd_bfs_tree.GetNodes():\n",
        "        email_out_nodes.append(i)\n",
        "\n",
        "    # TENDRILS nodes\n",
        "    elif (fwd_bfs_tree.GetNodes() > 0) and (fwd_bfs_tree.GetNodes() < bwd_bfs_tree.GetNodes()):\n",
        "        email_tendrils_nodes.append(i)\n",
        "\n",
        "    # DISCONNECTED nodes\n",
        "    else:\n",
        "        email_disconnected_nodes.append(i)\n",
        "print(\"\")\n",
        "print(\"email network:\")\n",
        "print(f\"SCC nodes: {len(email_scc_nodes)}\")\n",
        "print(f\"IN nodes: {len(email_in_nodes)}\")\n",
        "print(f\"OUT nodes: {len(email_out_nodes)}\")\n",
        "print(f\"TENDRILS nodes: {len(email_tendrils_nodes)}\")\n",
        "print(f\"DISCONNECTED nodes: {len(email_disconnected_nodes)}\")"
      ],
      "metadata": {
        "colab": {
          "base_uri": "https://localhost:8080/"
        },
        "id": "QqFT3kbC5HLc",
        "outputId": "e10878d8-a8c0-4b41-f9df-4ab5efc5d446"
      },
      "execution_count": null,
      "outputs": [
        {
          "output_type": "stream",
          "name": "stdout",
          "text": [
            "Epinions network:\n",
            "SCC nodes: 0\n",
            "IN nodes: 30\n",
            "OUT nodes: 70\n",
            "TENDRILS nodes: 0\n",
            "DISCONNECTED nodes: 0\n",
            "\n",
            "email network:\n",
            "SCC nodes: 0\n",
            "IN nodes: 77\n",
            "OUT nodes: 23\n",
            "TENDRILS nodes: 0\n",
            "DISCONNECTED nodes: 0\n"
          ]
        }
      ]
    }
  ]
}