{
  "nbformat": 4,
  "nbformat_minor": 0,
  "metadata": {
    "colab": {
      "provenance": []
    },
    "kernelspec": {
      "name": "python3",
      "display_name": "Python 3"
    },
    "language_info": {
      "name": "python"
    }
  },
  "cells": [
    {
      "cell_type": "code",
      "source": [
        "!pip install snap-stanford"
      ],
      "metadata": {
        "colab": {
          "base_uri": "https://localhost:8080/"
        },
        "id": "n4VBqJOZMX5R",
        "outputId": "d40abdc1-890e-497d-8464-995b4457c8c6"
      },
      "execution_count": null,
      "outputs": [
        {
          "output_type": "stream",
          "name": "stdout",
          "text": [
            "Looking in indexes: https://pypi.org/simple, https://us-python.pkg.dev/colab-wheels/public/simple/\n",
            "Requirement already satisfied: snap-stanford in /usr/local/lib/python3.9/dist-packages (6.0.0)\n"
          ]
        }
      ]
    },
    {
      "cell_type": "markdown",
      "source": [
        "#**Problem: 1.1**"
      ],
      "metadata": {
        "id": "VacyxAFpROBP"
      }
    },
    {
      "cell_type": "code",
      "source": [
        "import numpy as np\n",
        "import matplotlib.pyplot as plt\n",
        "import random\n",
        "\n",
        "#1.1\n",
        "\n",
        "n = 5242\n",
        "m = 14484\n",
        "\n",
        "def generate_erdos_renyi(n, m):\n",
        "    graph = {}\n",
        "    for i in range(n):\n",
        "        graph[i] = set()\n",
        "\n",
        "    max_edges = n*(n-1)//2\n",
        "    if m > max_edges:\n",
        "        m = max_edges\n",
        "\n",
        "    edges = set()\n",
        "    while len(edges) < m:\n",
        "        u, v = random.sample(range(n), 2)\n",
        "        if u == v or (u, v) in edges or (v, u) in edges:\n",
        "            continue\n",
        "        edges.add((u, v))\n",
        "\n",
        "    for u, v in edges:\n",
        "        graph[u].add(v)\n",
        "        graph[v].add(u)\n",
        "\n",
        "    return graph\n",
        "\n",
        "def generate_small_world(n, k, p):\n",
        "    if k % 2 != 0:\n",
        "        k -= 1\n",
        "\n",
        "    graph = {}\n",
        "    for i in range(n):\n",
        "        graph[i] = set()\n",
        "\n",
        "    # create a ring lattice\n",
        "    for i in range(n):\n",
        "        for j in range(1, k // 2 + 1):\n",
        "            v = (i + j) % n\n",
        "            graph[i].add(v)\n",
        "            graph[v].add(i)\n",
        "\n",
        "    # add random edges\n",
        "    for i in range(n):\n",
        "        for j in range(1, k // 2 + 1):\n",
        "            if random.random() < p:\n",
        "                v = (i + j) % n\n",
        "                w = random.randint(0, n - 1)\n",
        "                graph[i].remove(v)\n",
        "                graph[v].remove(i)\n",
        "                graph[i].add(w)\n",
        "                graph[w].add(i)\n",
        "\n",
        "    return graph\n",
        "\n",
        "\n",
        "#collabaration\n",
        "#collab = snap.LoadEdgeList(snap.PUNGraph, \"ca-GrQc.txt\", 0, 1)\n",
        "\n",
        "def collabr():\n",
        "    graph = {}\n",
        "    with open('CA-GrQc.txt', 'r') as f:\n",
        "        for line in f:\n",
        "            if line[0] != '#':\n",
        "                u, v = map(int, line.split())\n",
        "                if u != v:\n",
        "                    if u not in graph:\n",
        "                        graph[u] = set()\n",
        "                    if v not in graph:\n",
        "                        graph[v] = set()\n",
        "                    graph[u].add(v)\n",
        "                    graph[v].add(u)\n",
        "    n_graph = len(graph)\n",
        "    return graph\n",
        "\n",
        "\n",
        "def degree_distribution(graph):\n",
        "    degrees = [len(neighbors) for neighbors in graph.values()]\n",
        "    hist, bin_edges = np.histogram(degrees, bins=range(max(degrees)+2), density=True)\n",
        "    bin_centers = (bin_edges[:-1] + bin_edges[1:]) / 2\n",
        "    return bin_centers, hist\n",
        "\n",
        "\n",
        "erdos_renyi = generate_erdos_renyi(n, m)\n",
        "small_world = generate_small_world(n, 4, 0.5)\n",
        "collabar = collabr()\n",
        "# plot the degree distributions\n",
        "fig, ax = plt.subplots()\n",
        "x_erdosRenyi, y_erdosRenyi = degree_distribution(erdos_renyi)\n",
        "plt.loglog(x_erdosRenyi, y_erdosRenyi, color = 'g', label = 'Erdos Renyi Network')\n",
        "\n",
        "x_smallWorld, y_smallWorld = degree_distribution(small_world)\n",
        "plt.loglog(x_smallWorld, y_smallWorld, linestyle = 'dashed', color = 'y', label = 'Small World Network')\n",
        "\n",
        "x_collabNet, y_collabNet = degree_distribution(collabar)\n",
        "plt.loglog(x_collabNet, y_collabNet, linestyle = 'dotted', color = 'black', label = 'Collaboration Network')\n",
        "\n",
        "plt.xlabel('Node Degree (log)')\n",
        "plt.ylabel('Proportion of Nodes with a Given Degree (log)')\n",
        "plt.title('Degree Distribution of Erdos Renyi, Small World, and Collaboration Networks')\n",
        "plt.legend()\n",
        "plt.show()"
      ],
      "metadata": {
        "colab": {
          "base_uri": "https://localhost:8080/",
          "height": 299
        },
        "id": "ckKZRSUcKynw",
        "outputId": "bc88d70e-c507-4fee-d365-0fc4563364d1"
      },
      "execution_count": null,
      "outputs": [
        {
          "output_type": "display_data",
          "data": {
            "text/plain": [
              "<Figure size 432x288 with 1 Axes>"
            ],
            "image/png": "[encoded data removed]"
          },
          "metadata": {
            "needs_background": "light"
          }
        }
      ]
    },
    {
      "cell_type": "markdown",
      "source": [
        "The key difference between the degree distribution of the collaboration network and the degree distributions of the random graph models is that the collaboration network has a power-law degree distribution, which means that there are many nodes with low degree and a few nodes with very high degree, while the degree distributions of the random graph models follow a Poisson distribution, which means that the nodes have more similar degrees and there are fewer nodes with very high or very low degree."
      ],
      "metadata": {
        "id": "B7xB4LdOyzng"
      }
    },
    {
      "cell_type": "markdown",
      "source": [
        "#****Problem 1.2****"
      ],
      "metadata": {
        "id": "OMoGsnDEDtOv"
      }
    },
    {
      "cell_type": "markdown",
      "source": [
        "##**1.2(a)**"
      ],
      "metadata": {
        "id": "3ltq7Ps9vfk5"
      }
    },
    {
      "cell_type": "code",
      "source": [
        "#1.2\n",
        "# generate a random graph\n",
        "edges = np.random.randint(0, n, size=(m, 2))\n",
        "\n",
        "# initialize adjacency list\n",
        "adj_list = [[] for _ in range(n)]\n",
        "\n",
        "# add edges to adjacency list\n",
        "for (i, j) in edges:\n",
        "    adj_list[i].append(j)\n",
        "    adj_list[j].append(i)\n",
        "\n",
        "# compute degree distribution\n",
        "degrees = np.array([len(adj_list[i]) for i in range(n)])\n",
        "pk = degrees / n\n",
        "\n",
        "# compute excess degree distribution\n",
        "def compute_qk(degrees):\n",
        "    qk = np.zeros(n)\n",
        "    for k in range(n):\n",
        "        qk[k] = sum(max(0, degrees[i] - k) for i in range(n)) / n\n",
        "    return qk\n",
        "\n",
        "qk = compute_qk(degrees)\n",
        "exp_deg = sum(degrees) / n\n",
        "exp_excess_deg = sum((k+1)*qk[k] for k in range(n))\n",
        "\n",
        "\n",
        "# Load collaboration network\n",
        "edges = []\n",
        "with open('CA-GrQc.txt', 'r') as f:\n",
        "    for line in f:\n",
        "        if line.startswith('#'):\n",
        "            continue\n",
        "        edge = tuple(map(int, line.strip().split()))\n",
        "        if edge[0] != edge[1]:\n",
        "            edges.append(edge)\n",
        "n = 5242\n",
        "m = 14484\n",
        "\n",
        "# Erdős-Rényi random graph\n",
        "np.random.seed(1)\n",
        "m_er = 14484\n",
        "edges_er = set()\n",
        "while len(edges_er) < m_er:\n",
        "    i, j = np.random.randint(n, size=2)\n",
        "    if i != j:\n",
        "        edges_er.add((i, j))\n",
        "edges_er = list(edges_er)\n",
        "degrees_er = np.zeros(n)\n",
        "for (i, j) in edges_er:\n",
        "    degrees_er[i] += 1\n",
        "    degrees_er[j] += 1\n",
        "pk_er = degrees_er / n\n",
        "qk_er = compute_qk(degrees_er)\n",
        "exp_deg_er = sum(degrees_er) / n\n",
        "exp_excess_deg_er = sum((k+1)*qk_er[k] for k in range(n))\n",
        "\n",
        "# Small-world random network\n",
        "edges_sw = []\n",
        "for i in range(n):\n",
        "    edges_sw.append((i, (i+1)%n))\n",
        "    edges_sw.append((i, (i+2)%n))\n",
        "np.random.seed(2)\n",
        "for i in range(4000):\n",
        "    while True:\n",
        "        j, k = np.random.randint(n, size=2)\n",
        "        if j != k and (j, k) not in edges_sw and (k, j) not in edges_sw:\n",
        "            break\n",
        "    edges_sw.append((j, k))\n",
        "degrees_sw = np.zeros(n)\n",
        "for (i, j) in edges_sw:\n",
        "    degrees_sw[i] += 1\n",
        "    degrees_sw[j] += 1\n",
        "pk_sw = degrees_sw / n\n",
        "qk_sw = compute_qk(degrees_sw)\n",
        "exp_deg_sw = sum(degrees_sw) / n\n",
        "exp_excess_deg_sw = sum((k+1)*qk_sw[k] for k in range(n))\n",
        "\n",
        "# Collaboration network\n",
        "degrees_collab = np.zeros(n)\n",
        "for (i, j) in edges:\n",
        "    if i < n and j < n:\n",
        "        degrees_collab[i] += 1\n",
        "        degrees_collab[j] += 1\n",
        "\n",
        "\n",
        "pk_collab = degrees_collab / n\n",
        "qk_collab = compute_qk(degrees_collab)\n",
        "exp_degrees = [pk for pk in pk_collab]\n",
        "exp_degree = sum(exp_degrees)\n",
        "exp_excess_degrees = [k * qk for k, qk in enumerate(qk_collab)]\n",
        "exp_deg_cb = sum((k * qk for k, qk in enumerate(qk_collab)))\n",
        "exp_excess_degree = sum(exp_excess_degrees)\n",
        "\n",
        "\n",
        "# Plot the excess degree distributions\n",
        "plt.loglog(range(len(qk_er)), qk_er, 'r-', label='Erdos-Renyi')\n",
        "plt.loglog(range(len(qk_sw)), qk_sw, 'b-', label='Small World')\n",
        "plt.loglog(range(len(qk_collab)), qk_collab, 'g-', label='Collaboration')\n",
        "plt.xlabel('Excess Degree (k+1)')\n",
        "plt.ylabel('Probability (log scale)')\n",
        "plt.title('Excess Degree Distribution')\n",
        "plt.legend()\n",
        "plt.show()\n",
        "\n",
        "print(\"Expected degree:\")\n",
        "print(f\"Erdos-Renyi: {exp_deg_er:.4f}\")\n",
        "print(f\"Small World: {exp_deg_sw:.4f}\")\n",
        "print(f\"Collaboration: {exp_deg_cb:.4f}\\n\")\n",
        "\n",
        "print(\"Expected excess degree:\")\n",
        "print(f\"Erdos-Renyi: {exp_excess_deg_er:.3f}\")\n",
        "print(f\"Small World: {exp_excess_deg_sw:.3f}\")\n",
        "print(f\"Collaboration: {exp_excess_degree:.3f}\\n\")\n"
      ],
      "metadata": {
        "colab": {
          "base_uri": "https://localhost:8080/",
          "height": 473
        },
        "id": "PtdDHEDHK7NL",
        "outputId": "627fd600-b4ee-4e12-e43f-93166a59ae0f"
      },
      "execution_count": null,
      "outputs": [
        {
          "output_type": "display_data",
          "data": {
            "text/plain": [
              "<Figure size 432x288 with 1 Axes>"
            ],
            "image/png": "[encoded data removed]"
          },
          "metadata": {
            "needs_background": "light"
          }
        },
        {
          "output_type": "stream",
          "name": "stdout",
          "text": [
            "Expected degree:\n",
            "Erdos-Renyi: 5.5261\n",
            "Small World: 5.5261\n",
            "Collaboration: 11.8569\n",
            "\n",
            "Expected excess degree:\n",
            "Erdos-Renyi: 64.760\n",
            "Small World: 50.396\n",
            "Collaboration: 11.857\n",
            "\n"
          ]
        }
      ]
    },
    {
      "cell_type": "markdown",
      "source": [
        "###**1.2 (b)**\n",
        "To compute the excess degree distribution {qk} given only the degree distribution {pk}, we can use the following steps:\n",
        "\n",
        "\n",
        "\n",
        "1.   Calculate the expected degree of the network: k̂ = Σk * pk\n",
        "2.   For each node of degree k, calculate the expected number of edges that connect to nodes of degree k+1: (k̂ - k) * pk\n",
        "1.   Sum up the expected number of edges for all nodes of degree k to get qk: Σ((k̂ - k) * pk)\n",
        "\n",
        "Therefore, we can calculate qk for each k by using the formula qk = Σ((k̂ - k) * pk) for k ≥ 0.\n",
        "\n"
      ],
      "metadata": {
        "id": "z8KkqQXN1iKw"
      }
    },
    {
      "cell_type": "markdown",
      "source": [
        "# **Problem: 1.3**"
      ],
      "metadata": {
        "id": "pnYUloNiQ1nV"
      }
    },
    {
      "cell_type": "code",
      "source": [
        "import numpy as np\n",
        "\n",
        "def clustering_coefficient(node_id, graph):\n",
        "    neighbors = [n for n in graph[node_id]]\n",
        "    k = len(neighbors)\n",
        "    if k < 2:\n",
        "        return 0.0\n",
        "    edges = 0\n",
        "    for i in range(k):\n",
        "        for j in range(i+1, k):\n",
        "            if neighbors[j] in graph[neighbors[i]]:\n",
        "                edges += 1\n",
        "    return float(2 * edges) / (k * (k - 1))\n",
        "\n",
        "# Load real-world collaboration network\n",
        "collab_graph = {}\n",
        "with open(\"CA-GrQc.txt\") as f:\n",
        "    for line in f:\n",
        "        if line.startswith(\"#\"):\n",
        "            continue\n",
        "        src, dst = line.strip().split()\n",
        "        if src not in collab_graph:\n",
        "            collab_graph[src] = []\n",
        "        if dst not in collab_graph:\n",
        "            collab_graph[dst] = []\n",
        "        collab_graph[src].append(dst)\n",
        "        collab_graph[dst].append(src)\n",
        "\n",
        "# Compute average clustering coefficient for collaboration network\n",
        "collab_coeffs = [clustering_coefficient(node_id, collab_graph) for node_id in collab_graph]\n",
        "collab_avg = sum(collab_coeffs) / len(collab_graph)\n",
        "\n",
        "# Generate Erdos-Renyi random graph\n",
        "er_graph = {}\n",
        "n = 5242\n",
        "m = 14484\n",
        "for i in range(n):\n",
        "    er_graph[str(i)] = []\n",
        "for i in range(m):\n",
        "    src = np.random.randint(n)\n",
        "    dst = np.random.randint(n)\n",
        "    while dst in er_graph[str(src)] or src == dst:\n",
        "        src = np.random.randint(n)\n",
        "        dst = np.random.randint(n)\n",
        "    er_graph[str(src)].append(str(dst))\n",
        "    er_graph[str(dst)].append(str(src))\n",
        "\n",
        "# Compute average clustering coefficient for Erdos-Renyi graph\n",
        "er_coeffs = [clustering_coefficient(node_id, er_graph) for node_id in er_graph]\n",
        "er_avg = sum(er_coeffs) / len(er_graph)\n",
        "\n",
        "# Generate Small World random graph\n",
        "sw_graph = {}\n",
        "n = 5242\n",
        "for i in range(n):\n",
        "    sw_graph[str(i)] = []\n",
        "# Add initial ring edges\n",
        "for i in range(n):\n",
        "    sw_graph[str(i)].append(str((i + 1) % n))\n",
        "    sw_graph[str((i + 1) % n)].append(str(i))\n",
        "    sw_graph[str(i)].append(str((i - 1) % n))\n",
        "    sw_graph[str((i - 1) % n)].append(str(i))\n",
        "# Add next-nearest neighbor edges\n",
        "for i in range(n):\n",
        "    sw_graph[str(i)].append(str((i + 2) % n))\n",
        "    sw_graph[str((i + 2) % n)].append(str(i))\n",
        "    sw_graph[str(i)].append(str((i - 2) % n))\n",
        "    sw_graph[str((i - 2) % n)].append(str(i))\n",
        "# Add random edges\n",
        "for i in range(4000):\n",
        "    src = np.random.randint(n)\n",
        "    dst = np.random.randint(n)\n",
        "    while dst in sw_graph[str(src)] or src == dst:\n",
        "        src = np.random.randint(n)\n",
        "        dst = np.random.randint(n)\n",
        "    sw_graph[str(src)].append(str(dst))\n",
        "    sw_graph[str(dst)].append(str(src))\n",
        "\n",
        "# Compute average clustering coefficient for Small World graph\n",
        "sw_coeffs = [clustering_coefficient(node_id, sw_graph) for node_id in sw_graph]\n",
        "sw_avg = sum(sw_coeffs) / len(sw_graph)\n",
        "\n",
        "print(\"Average clustering coefficient for each network:\")\n",
        "print(f\"Real-world collaboration network: {collab_avg}\")\n",
        "print(f\"Erdos-Renyi random graph: {er_avg}\")\n",
        "print(f\"Small World random graph: {sw_avg}\")\n",
        "print('')\n",
        "if collab_avg > er_avg and collab_avg > sw_avg:\n",
        "    print(\"The real-world collaboration network has the largest average clustering coefficient.\")\n",
        "    print(\"In real-world networks, there is often a tendency for individuals to form groups, leading to higher clustering coefficients..\")\n",
        "elif er_avg > collab_avg and er_avg > sw_avg:\n",
        "    print(\"The Erdos-Renyi random graph has the largest average clustering coefficient.\")\n",
        "    print(\"This is likely because the graph is randomly generated and does not exhibit any underlying structure.\")\n",
        "else:\n",
        "    print(\"The Small World random graph has the largest average clustering coefficient.\")\n",
        "    print(\"This is likely because the graph has a high number of local connections due to its small-world structure, which increases the number of triangles compared to the Erdos-Renyi graph.\")\n"
      ],
      "metadata": {
        "colab": {
          "base_uri": "https://localhost:8080/"
        },
        "id": "Dj0dqQRBNtnG",
        "outputId": "7911ac5a-59d8-4b0f-ebb3-764e732c1ade"
      },
      "execution_count": null,
      "outputs": [
        {
          "output_type": "stream",
          "name": "stdout",
          "text": [
            "Average clustering coefficient for each network:\n",
            "Real-world collaboration network: 0.42734243451697634\n",
            "Erdos-Renyi random graph: 0.001134172538216795\n",
            "Small World random graph: 0.31154614388111773\n",
            "\n",
            "The real-world collaboration network has the largest average clustering coefficient.\n",
            "In real-world networks, there is often a tendency for individuals to form groups, leading to higher clustering coefficients..\n"
          ]
        }
      ]
    }
  ]
}